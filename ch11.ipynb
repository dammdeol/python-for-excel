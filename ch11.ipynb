{
 "cells": [
  {
   "cell_type": "markdown",
   "metadata": {},
   "source": [
    "# Case Study Preliminaries"
   ]
  },
  {
   "cell_type": "markdown",
   "metadata": {},
   "source": [
    "## Web APIs"
   ]
  },
  {
   "cell_type": "code",
   "execution_count": 27,
   "metadata": {},
   "outputs": [],
   "source": [
    "import json"
   ]
  },
  {
   "cell_type": "code",
   "execution_count": 28,
   "metadata": {
    "pycharm": {
     "name": "#%%\n"
    }
   },
   "outputs": [],
   "source": [
    "# A Python dictionary...\n",
    "user_dict = {\"name\": \"Jane Doe\",\n",
    "             \"age\": 23,\n",
    "             \"married\": False,\n",
    "             \"children\": None,\n",
    "             \"hobbies\": [\"hiking\", \"reading\"]}"
   ]
  },
  {
   "cell_type": "code",
   "execution_count": 29,
   "metadata": {
    "pycharm": {
     "name": "#%%\n"
    }
   },
   "outputs": [
    {
     "name": "stdout",
     "output_type": "stream",
     "text": [
      "{\n",
      "    \"name\": \"Jane Doe\",\n",
      "    \"age\": 23,\n",
      "    \"married\": false,\n",
      "    \"children\": null,\n",
      "    \"hobbies\": [\n",
      "        \"hiking\",\n",
      "        \"reading\"\n",
      "    ]\n",
      "}\n"
     ]
    }
   ],
   "source": [
    "# ...converted to a JSON string\n",
    "# by json.dumps (\"dump string\"). The \"indent\" parameter is\n",
    "# optional and prettifies the printing.\n",
    "user_json = json.dumps(user_dict, indent=4)\n",
    "print(user_json)"
   ]
  },
  {
   "cell_type": "code",
   "execution_count": 30,
   "metadata": {
    "pycharm": {
     "name": "#%%\n"
    }
   },
   "outputs": [
    {
     "data": {
      "text/plain": [
       "{'name': 'Jane Doe',\n",
       " 'age': 23,\n",
       " 'married': False,\n",
       " 'children': None,\n",
       " 'hobbies': ['hiking', 'reading']}"
      ]
     },
     "execution_count": 30,
     "metadata": {},
     "output_type": "execute_result"
    }
   ],
   "source": [
    "# Convert the JSON string back to a native Python data structure\n",
    "json.loads(user_json)"
   ]
  },
  {
   "cell_type": "code",
   "execution_count": 31,
   "metadata": {},
   "outputs": [],
   "source": [
    "import requests"
   ]
  },
  {
   "cell_type": "code",
   "execution_count": 32,
   "metadata": {
    "pycharm": {
     "name": "#%%\n"
    }
   },
   "outputs": [
    {
     "data": {
      "text/plain": [
       "200"
      ]
     },
     "execution_count": 32,
     "metadata": {},
     "output_type": "execute_result"
    }
   ],
   "source": [
    "response = requests.get(\"https://pypi.org/pypi/pandas/json\")\n",
    "response.status_code"
   ]
  },
  {
   "cell_type": "code",
   "execution_count": 33,
   "metadata": {
    "pycharm": {
     "name": "#%%\n"
    }
   },
   "outputs": [],
   "source": [
    "## response.json()"
   ]
  },
  {
   "cell_type": "code",
   "execution_count": 34,
   "metadata": {
    "pycharm": {
     "name": "#%%\n"
    }
   },
   "outputs": [
    {
     "data": {
      "text/plain": [
       "['0.1: 2009-12-25T23:58:31',\n",
       " '0.10.0: 2012-12-17T16:52:06',\n",
       " '0.10.1: 2013-01-22T05:22:09']"
      ]
     },
     "execution_count": 34,
     "metadata": {},
     "output_type": "execute_result"
    }
   ],
   "source": [
    "releases = []\n",
    "for version, files in response.json()['releases'].items():\n",
    "    releases.append(f\"{version}: {files[0]['upload_time']}\")\n",
    "releases[:3]  # show the first 3 elements of the list"
   ]
  },
  {
   "cell_type": "markdown",
   "metadata": {},
   "source": [
    "## Databases"
   ]
  },
  {
   "cell_type": "code",
   "execution_count": 35,
   "metadata": {},
   "outputs": [],
   "source": [
    "import urllib.parse"
   ]
  },
  {
   "cell_type": "code",
   "execution_count": 36,
   "metadata": {
    "pycharm": {
     "name": "#%%\n"
    }
   },
   "outputs": [
    {
     "data": {
      "text/plain": [
       "'pa%24%24word'"
      ]
     },
     "execution_count": 36,
     "metadata": {},
     "output_type": "execute_result"
    }
   ],
   "source": [
    "urllib.parse.quote_plus(\"pa$$word\")"
   ]
  },
  {
   "cell_type": "code",
   "execution_count": 37,
   "metadata": {},
   "outputs": [],
   "source": [
    "# Let's start with the imports\n",
    "import sqlite3\n",
    "from sqlalchemy import create_engine\n",
    "import pandas as pd"
   ]
  },
  {
   "cell_type": "code",
   "execution_count": 38,
   "metadata": {
    "pycharm": {
     "name": "#%%\n"
    }
   },
   "outputs": [],
   "source": [
    "# Our SQL query: \"select all columns from the packages table\"\n",
    "sql = \"SELECT * FROM packages\""
   ]
  },
  {
   "cell_type": "code",
   "execution_count": 39,
   "metadata": {
    "pycharm": {
     "name": "#%%\n"
    }
   },
   "outputs": [
    {
     "data": {
      "text/plain": [
       "[]"
      ]
     },
     "execution_count": 39,
     "metadata": {},
     "output_type": "execute_result"
    }
   ],
   "source": [
    "# Option 1: Database driver (sqlite3 is part of the standard library)\n",
    "# Using the connection as context manager automatically commits\n",
    "# the transaction or rolls it back in case of an error.\n",
    "with sqlite3.connect(\"packagetracker/packagetracker.db\") as con:\n",
    "    cursor = con.cursor()  # We need a cursor to run SQL queries\n",
    "    result = cursor.execute(sql).fetchall()  # Return all records\n",
    "result"
   ]
  },
  {
   "cell_type": "code",
   "execution_count": 40,
   "metadata": {
    "pycharm": {
     "name": "#%%\n"
    }
   },
   "outputs": [
    {
     "data": {
      "text/plain": [
       "[]"
      ]
     },
     "execution_count": 40,
     "metadata": {},
     "output_type": "execute_result"
    }
   ],
   "source": [
    "# Option 2: SQLAlchemy\n",
    "# \"create_engine\" expects the connection string of your database.\n",
    "# Here, we can execute a query as a method of the connection object.\n",
    "engine = create_engine(\"sqlite:///packagetracker/packagetracker.db\")\n",
    "with engine.connect() as con:\n",
    "    result = con.execute(sql).fetchall()\n",
    "result"
   ]
  },
  {
   "cell_type": "code",
   "execution_count": 41,
   "metadata": {
    "pycharm": {
     "name": "#%%\n"
    }
   },
   "outputs": [
    {
     "data": {
      "text/html": [
       "<div>\n",
       "<style scoped>\n",
       "    .dataframe tbody tr th:only-of-type {\n",
       "        vertical-align: middle;\n",
       "    }\n",
       "\n",
       "    .dataframe tbody tr th {\n",
       "        vertical-align: top;\n",
       "    }\n",
       "\n",
       "    .dataframe thead th {\n",
       "        text-align: right;\n",
       "    }\n",
       "</style>\n",
       "<table border=\"1\" class=\"dataframe\">\n",
       "  <thead>\n",
       "    <tr style=\"text-align: right;\">\n",
       "      <th></th>\n",
       "      <th>package_name</th>\n",
       "    </tr>\n",
       "    <tr>\n",
       "      <th>package_id</th>\n",
       "      <th></th>\n",
       "    </tr>\n",
       "  </thead>\n",
       "  <tbody>\n",
       "  </tbody>\n",
       "</table>\n",
       "</div>"
      ],
      "text/plain": [
       "Empty DataFrame\n",
       "Columns: [package_name]\n",
       "Index: []"
      ]
     },
     "execution_count": 41,
     "metadata": {},
     "output_type": "execute_result"
    }
   ],
   "source": [
    "# Option 3: pandas\n",
    "# Providing a table name to \"read_sql\" reads the full table.\n",
    "# Pandas requires an SQLAlchemy engine that we reuse from\n",
    "# the previous example.\n",
    "df = pd.read_sql(\"packages\", engine, index_col=\"package_id\")\n",
    "df"
   ]
  },
  {
   "cell_type": "code",
   "execution_count": 42,
   "metadata": {
    "pycharm": {
     "name": "#%%\n"
    }
   },
   "outputs": [
    {
     "data": {
      "text/html": [
       "<div>\n",
       "<style scoped>\n",
       "    .dataframe tbody tr th:only-of-type {\n",
       "        vertical-align: middle;\n",
       "    }\n",
       "\n",
       "    .dataframe tbody tr th {\n",
       "        vertical-align: top;\n",
       "    }\n",
       "\n",
       "    .dataframe thead th {\n",
       "        text-align: right;\n",
       "    }\n",
       "</style>\n",
       "<table border=\"1\" class=\"dataframe\">\n",
       "  <thead>\n",
       "    <tr style=\"text-align: right;\">\n",
       "      <th></th>\n",
       "      <th>package_name</th>\n",
       "    </tr>\n",
       "    <tr>\n",
       "      <th>package_id</th>\n",
       "      <th></th>\n",
       "    </tr>\n",
       "  </thead>\n",
       "  <tbody>\n",
       "  </tbody>\n",
       "</table>\n",
       "</div>"
      ],
      "text/plain": [
       "Empty DataFrame\n",
       "Columns: [package_name]\n",
       "Index: []"
      ]
     },
     "execution_count": 42,
     "metadata": {},
     "output_type": "execute_result"
    }
   ],
   "source": [
    "# \"read_sql\" also accepts an SQL query\n",
    "pd.read_sql(sql, engine, index_col=\"package_id\")"
   ]
  },
  {
   "cell_type": "code",
   "execution_count": 43,
   "metadata": {
    "pycharm": {
     "name": "#%%\n"
    }
   },
   "outputs": [
    {
     "data": {
      "text/plain": [
       "0"
      ]
     },
     "execution_count": 43,
     "metadata": {},
     "output_type": "execute_result"
    }
   ],
   "source": [
    "# The DataFrame method \"to_sql\" writes DataFrames to tables\n",
    "# \"if_exists\" has to be either \"fail\", \"append\" or \"replace\"\n",
    "# and defines what happens if the table already exists\n",
    "df.to_sql(\"packages2\", con=engine, if_exists=\"append\")"
   ]
  },
  {
   "cell_type": "code",
   "execution_count": 44,
   "metadata": {
    "pycharm": {
     "name": "#%%\n"
    }
   },
   "outputs": [
    {
     "data": {
      "text/html": [
       "<div>\n",
       "<style scoped>\n",
       "    .dataframe tbody tr th:only-of-type {\n",
       "        vertical-align: middle;\n",
       "    }\n",
       "\n",
       "    .dataframe tbody tr th {\n",
       "        vertical-align: top;\n",
       "    }\n",
       "\n",
       "    .dataframe thead th {\n",
       "        text-align: right;\n",
       "    }\n",
       "</style>\n",
       "<table border=\"1\" class=\"dataframe\">\n",
       "  <thead>\n",
       "    <tr style=\"text-align: right;\">\n",
       "      <th></th>\n",
       "      <th>package_name</th>\n",
       "    </tr>\n",
       "    <tr>\n",
       "      <th>package_id</th>\n",
       "      <th></th>\n",
       "    </tr>\n",
       "  </thead>\n",
       "  <tbody>\n",
       "  </tbody>\n",
       "</table>\n",
       "</div>"
      ],
      "text/plain": [
       "Empty DataFrame\n",
       "Columns: [package_name]\n",
       "Index: []"
      ]
     },
     "execution_count": 44,
     "metadata": {},
     "output_type": "execute_result"
    }
   ],
   "source": [
    "# The previous command created a new table \"packages2\" and\n",
    "# inserted the records from the DataFrame df as we can\n",
    "# verify by reading it back\n",
    "pd.read_sql(\"packages2\", engine, index_col=\"package_id\")"
   ]
  },
  {
   "cell_type": "code",
   "execution_count": 45,
   "metadata": {
    "pycharm": {
     "name": "#%%\n"
    }
   },
   "outputs": [],
   "source": [
    "# Let's get rid of the table again by running the\n",
    "# \"drop table\" command via SQLAlchemy\n",
    "with engine.connect() as con:\n",
    "    con.execute(\"DROP TABLE packages2\")"
   ]
  },
  {
   "cell_type": "code",
   "execution_count": 46,
   "metadata": {},
   "outputs": [],
   "source": [
    "# Let's start by importing SQLAlchemy's text function\n",
    "from sqlalchemy.sql import text"
   ]
  },
  {
   "cell_type": "code",
   "execution_count": 47,
   "metadata": {
    "pycharm": {
     "name": "#%%\n"
    }
   },
   "outputs": [],
   "source": [
    "# \":package_id\" is the placeholder\n",
    "sql = \"\"\"\n",
    "SELECT v.uploaded_at, v.version_string\n",
    "FROM packages p\n",
    "INNER JOIN package_versions v ON p.package_id = v.package_id\n",
    "WHERE p.package_id = :package_id\n",
    "ORDER BY v.uploaded_at\n",
    "\"\"\""
   ]
  },
  {
   "cell_type": "code",
   "execution_count": 48,
   "metadata": {
    "pycharm": {
     "name": "#%%\n"
    }
   },
   "outputs": [
    {
     "data": {
      "text/plain": [
       "[]"
      ]
     },
     "execution_count": 48,
     "metadata": {},
     "output_type": "execute_result"
    }
   ],
   "source": [
    "# Via SQLAlchemy\n",
    "with engine.connect() as con:\n",
    "    result = con.execute(text(sql), package_id=1).fetchall()\n",
    "result[:3]  # Print the first 3 records"
   ]
  },
  {
   "cell_type": "code",
   "execution_count": 49,
   "metadata": {
    "pycharm": {
     "name": "#%%\n"
    }
   },
   "outputs": [
    {
     "data": {
      "text/html": [
       "<div>\n",
       "<style scoped>\n",
       "    .dataframe tbody tr th:only-of-type {\n",
       "        vertical-align: middle;\n",
       "    }\n",
       "\n",
       "    .dataframe tbody tr th {\n",
       "        vertical-align: top;\n",
       "    }\n",
       "\n",
       "    .dataframe thead th {\n",
       "        text-align: right;\n",
       "    }\n",
       "</style>\n",
       "<table border=\"1\" class=\"dataframe\">\n",
       "  <thead>\n",
       "    <tr style=\"text-align: right;\">\n",
       "      <th></th>\n",
       "      <th>version_string</th>\n",
       "    </tr>\n",
       "    <tr>\n",
       "      <th>uploaded_at</th>\n",
       "      <th></th>\n",
       "    </tr>\n",
       "  </thead>\n",
       "  <tbody>\n",
       "  </tbody>\n",
       "</table>\n",
       "</div>"
      ],
      "text/plain": [
       "Empty DataFrame\n",
       "Columns: [version_string]\n",
       "Index: []"
      ]
     },
     "execution_count": 49,
     "metadata": {},
     "output_type": "execute_result"
    }
   ],
   "source": [
    "# Via pandas\n",
    "pd.read_sql(text(sql), engine, parse_dates=[\"uploaded_at\"],\n",
    "            params={\"package_id\": 1},\n",
    "            index_col=[\"uploaded_at\"]).head(3)"
   ]
  },
  {
   "cell_type": "markdown",
   "metadata": {},
   "source": [
    "## Exceptions"
   ]
  },
  {
   "cell_type": "code",
   "execution_count": 50,
   "metadata": {
    "pycharm": {
     "name": "#%%\n"
    }
   },
   "outputs": [],
   "source": [
    "def print_reciprocal(number):\n",
    "    result = 1 / number\n",
    "    print(f\"The reciprocal is: {result}\")"
   ]
  },
  {
   "cell_type": "code",
   "execution_count": 51,
   "metadata": {
    "pycharm": {
     "name": "#%%\n"
    }
   },
   "outputs": [
    {
     "ename": "ZeroDivisionError",
     "evalue": "division by zero",
     "output_type": "error",
     "traceback": [
      "\u001b[1;31m---------------------------------------------------------------------------\u001b[0m",
      "\u001b[1;31mZeroDivisionError\u001b[0m                         Traceback (most recent call last)",
      "\u001b[1;32mc:\\Users\\ddeolarte\\python-for-excel\\ch11.ipynb Celda 29\u001b[0m in \u001b[0;36m<cell line: 1>\u001b[1;34m()\u001b[0m\n\u001b[1;32m----> <a href='vscode-notebook-cell:/c%3A/Users/ddeolarte/python-for-excel/ch11.ipynb#X40sZmlsZQ%3D%3D?line=0'>1</a>\u001b[0m print_reciprocal(\u001b[39m0\u001b[39;49m)\n",
      "\u001b[1;32mc:\\Users\\ddeolarte\\python-for-excel\\ch11.ipynb Celda 29\u001b[0m in \u001b[0;36mprint_reciprocal\u001b[1;34m(number)\u001b[0m\n\u001b[0;32m      <a href='vscode-notebook-cell:/c%3A/Users/ddeolarte/python-for-excel/ch11.ipynb#X40sZmlsZQ%3D%3D?line=0'>1</a>\u001b[0m \u001b[39mdef\u001b[39;00m \u001b[39mprint_reciprocal\u001b[39m(number):\n\u001b[1;32m----> <a href='vscode-notebook-cell:/c%3A/Users/ddeolarte/python-for-excel/ch11.ipynb#X40sZmlsZQ%3D%3D?line=1'>2</a>\u001b[0m     result \u001b[39m=\u001b[39m \u001b[39m1\u001b[39;49m \u001b[39m/\u001b[39;49m number\n\u001b[0;32m      <a href='vscode-notebook-cell:/c%3A/Users/ddeolarte/python-for-excel/ch11.ipynb#X40sZmlsZQ%3D%3D?line=2'>3</a>\u001b[0m     \u001b[39mprint\u001b[39m(\u001b[39mf\u001b[39m\u001b[39m\"\u001b[39m\u001b[39mThe reciprocal is: \u001b[39m\u001b[39m{\u001b[39;00mresult\u001b[39m}\u001b[39;00m\u001b[39m\"\u001b[39m)\n",
      "\u001b[1;31mZeroDivisionError\u001b[0m: division by zero"
     ]
    }
   ],
   "source": [
    "print_reciprocal(0)  # This will raise an error"
   ]
  },
  {
   "cell_type": "code",
   "execution_count": null,
   "metadata": {
    "pycharm": {
     "name": "#%%\n"
    }
   },
   "outputs": [],
   "source": [
    "def print_reciprocal(number):\n",
    "    try:\n",
    "        result = 1 / number\n",
    "    except Exception as e:\n",
    "        # \"as e\" makes the Exception object available as variable \"e\"\n",
    "        # \"repr\" stands for \"printable representation\" of an object\n",
    "        # and gives you back a string with the error message\n",
    "        print(f\"There was an error: {repr(e)}\")\n",
    "        result = \"N/A\"\n",
    "    else:\n",
    "        print(\"There was no error!\")\n",
    "    finally:\n",
    "        print(f\"The reciprocal is: {result}\")"
   ]
  },
  {
   "cell_type": "code",
   "execution_count": null,
   "metadata": {
    "pycharm": {
     "name": "#%%\n"
    }
   },
   "outputs": [
    {
     "name": "stdout",
     "output_type": "stream",
     "text": [
      "There was no error!\n",
      "The reciprocal is: 0.1\n"
     ]
    }
   ],
   "source": [
    "print_reciprocal(10)"
   ]
  },
  {
   "cell_type": "code",
   "execution_count": null,
   "metadata": {
    "pycharm": {
     "name": "#%%\n"
    }
   },
   "outputs": [
    {
     "name": "stdout",
     "output_type": "stream",
     "text": [
      "There was an error: TypeError(\"unsupported operand type(s) for /: 'int' and 'str'\")\n",
      "The reciprocal is: N/A\n"
     ]
    }
   ],
   "source": [
    "print_reciprocal(\"a\")"
   ]
  },
  {
   "cell_type": "code",
   "execution_count": null,
   "metadata": {
    "pycharm": {
     "name": "#%%\n"
    }
   },
   "outputs": [
    {
     "name": "stdout",
     "output_type": "stream",
     "text": [
      "There was an error: ZeroDivisionError('division by zero')\n",
      "The reciprocal is: N/A\n"
     ]
    }
   ],
   "source": [
    "print_reciprocal(0)"
   ]
  },
  {
   "cell_type": "code",
   "execution_count": null,
   "metadata": {
    "pycharm": {
     "name": "#%%\n"
    }
   },
   "outputs": [],
   "source": [
    "def print_reciprocal(number):\n",
    "    try:\n",
    "        result = 1 / number\n",
    "        print(f\"The reciprocal is: {result}\")\n",
    "    except (TypeError, ZeroDivisionError):\n",
    "        print(\"Please type in any number except 0.\")"
   ]
  },
  {
   "cell_type": "code",
   "execution_count": null,
   "metadata": {
    "pycharm": {
     "name": "#%%\n"
    }
   },
   "outputs": [
    {
     "name": "stdout",
     "output_type": "stream",
     "text": [
      "Please type in any number except 0.\n"
     ]
    }
   ],
   "source": [
    "print_reciprocal(\"a\")"
   ]
  },
  {
   "cell_type": "code",
   "execution_count": null,
   "metadata": {
    "pycharm": {
     "name": "#%%\n"
    }
   },
   "outputs": [],
   "source": [
    "def print_reciprocal(number):\n",
    "    try:\n",
    "        result = 1 / number\n",
    "        print(f\"The reciprocal is: {result}\")\n",
    "    except TypeError:\n",
    "        print(\"Please type in a number.\")\n",
    "    except ZeroDivisionError:\n",
    "        print(\"The reciprocal of 0 is not defined.\")"
   ]
  },
  {
   "cell_type": "code",
   "execution_count": null,
   "metadata": {},
   "outputs": [
    {
     "name": "stdout",
     "output_type": "stream",
     "text": [
      "Please type in a number.\n"
     ]
    }
   ],
   "source": [
    "print_reciprocal(\"a\")"
   ]
  },
  {
   "cell_type": "code",
   "execution_count": null,
   "metadata": {},
   "outputs": [
    {
     "name": "stdout",
     "output_type": "stream",
     "text": [
      "The reciprocal of 0 is not defined.\n"
     ]
    }
   ],
   "source": [
    "print_reciprocal(0)"
   ]
  }
 ],
 "metadata": {
  "kernelspec": {
   "display_name": "Python 3.9.12 ('base')",
   "language": "python",
   "name": "python3"
  },
  "language_info": {
   "codemirror_mode": {
    "name": "ipython",
    "version": 3
   },
   "file_extension": ".py",
   "mimetype": "text/x-python",
   "name": "python",
   "nbconvert_exporter": "python",
   "pygments_lexer": "ipython3",
   "version": "3.9.12"
  },
  "vscode": {
   "interpreter": {
    "hash": "11538923054aa31470b4b133c4a94a39c4838c685ba4363373e362106b5539d2"
   }
  }
 },
 "nbformat": 4,
 "nbformat_minor": 4
}
